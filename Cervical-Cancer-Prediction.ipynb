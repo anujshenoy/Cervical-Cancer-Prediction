{
 "cells": [
  {
   "cell_type": "markdown",
   "metadata": {},
   "source": [
    "## Task 1- Retrieving and preparing the data"
   ]
  },
  {
   "cell_type": "code",
   "execution_count": 1,
   "metadata": {},
   "outputs": [],
   "source": [
    "#To import the required packages\n",
    "import pandas as pd\n",
    "import matplotlib.pyplot as plt\n",
    "import numpy as np\n",
    "import seaborn as sns"
   ]
  },
  {
   "cell_type": "code",
   "execution_count": 2,
   "metadata": {},
   "outputs": [],
   "source": [
    "# To Read the csv file\n",
    "cervical_cancer=pd.read_csv(\"sobar-72.csv\",sep=',',decimal='.',error_bad_lines=False)"
   ]
  },
  {
   "cell_type": "code",
   "execution_count": 3,
   "metadata": {},
   "outputs": [
    {
     "data": {
      "text/html": [
       "<div>\n",
       "<style scoped>\n",
       "    .dataframe tbody tr th:only-of-type {\n",
       "        vertical-align: middle;\n",
       "    }\n",
       "\n",
       "    .dataframe tbody tr th {\n",
       "        vertical-align: top;\n",
       "    }\n",
       "\n",
       "    .dataframe thead th {\n",
       "        text-align: right;\n",
       "    }\n",
       "</style>\n",
       "<table border=\"1\" class=\"dataframe\">\n",
       "  <thead>\n",
       "    <tr style=\"text-align: right;\">\n",
       "      <th></th>\n",
       "      <th>behavior_sexualRisk</th>\n",
       "      <th>behavior_eating</th>\n",
       "      <th>behavior_personalHygine</th>\n",
       "      <th>intention_aggregation</th>\n",
       "      <th>intention_commitment</th>\n",
       "      <th>attitude_consistency</th>\n",
       "      <th>attitude_spontaneity</th>\n",
       "      <th>norm_significantPerson</th>\n",
       "      <th>norm_fulfillment</th>\n",
       "      <th>perception_vulnerability</th>\n",
       "      <th>perception_severity</th>\n",
       "      <th>motivation_strength</th>\n",
       "      <th>motivation_willingness</th>\n",
       "      <th>socialSupport_emotionality</th>\n",
       "      <th>socialSupport_appreciation</th>\n",
       "      <th>socialSupport_instrumental</th>\n",
       "      <th>empowerment_knowledge</th>\n",
       "      <th>empowerment_abilities</th>\n",
       "      <th>empowerment_desires</th>\n",
       "      <th>ca_cervix</th>\n",
       "    </tr>\n",
       "  </thead>\n",
       "  <tbody>\n",
       "    <tr>\n",
       "      <th>0</th>\n",
       "      <td>10</td>\n",
       "      <td>13</td>\n",
       "      <td>12</td>\n",
       "      <td>4</td>\n",
       "      <td>7</td>\n",
       "      <td>9</td>\n",
       "      <td>10</td>\n",
       "      <td>1</td>\n",
       "      <td>8</td>\n",
       "      <td>7</td>\n",
       "      <td>3</td>\n",
       "      <td>14</td>\n",
       "      <td>8</td>\n",
       "      <td>5</td>\n",
       "      <td>7</td>\n",
       "      <td>12</td>\n",
       "      <td>12</td>\n",
       "      <td>11</td>\n",
       "      <td>8</td>\n",
       "      <td>1</td>\n",
       "    </tr>\n",
       "    <tr>\n",
       "      <th>1</th>\n",
       "      <td>10</td>\n",
       "      <td>11</td>\n",
       "      <td>11</td>\n",
       "      <td>10</td>\n",
       "      <td>14</td>\n",
       "      <td>7</td>\n",
       "      <td>7</td>\n",
       "      <td>5</td>\n",
       "      <td>5</td>\n",
       "      <td>4</td>\n",
       "      <td>2</td>\n",
       "      <td>15</td>\n",
       "      <td>13</td>\n",
       "      <td>7</td>\n",
       "      <td>6</td>\n",
       "      <td>5</td>\n",
       "      <td>5</td>\n",
       "      <td>4</td>\n",
       "      <td>4</td>\n",
       "      <td>1</td>\n",
       "    </tr>\n",
       "    <tr>\n",
       "      <th>2</th>\n",
       "      <td>10</td>\n",
       "      <td>15</td>\n",
       "      <td>3</td>\n",
       "      <td>2</td>\n",
       "      <td>14</td>\n",
       "      <td>8</td>\n",
       "      <td>10</td>\n",
       "      <td>1</td>\n",
       "      <td>4</td>\n",
       "      <td>7</td>\n",
       "      <td>2</td>\n",
       "      <td>7</td>\n",
       "      <td>3</td>\n",
       "      <td>3</td>\n",
       "      <td>6</td>\n",
       "      <td>11</td>\n",
       "      <td>3</td>\n",
       "      <td>3</td>\n",
       "      <td>15</td>\n",
       "      <td>1</td>\n",
       "    </tr>\n",
       "    <tr>\n",
       "      <th>3</th>\n",
       "      <td>10</td>\n",
       "      <td>11</td>\n",
       "      <td>10</td>\n",
       "      <td>10</td>\n",
       "      <td>15</td>\n",
       "      <td>7</td>\n",
       "      <td>7</td>\n",
       "      <td>1</td>\n",
       "      <td>5</td>\n",
       "      <td>4</td>\n",
       "      <td>2</td>\n",
       "      <td>15</td>\n",
       "      <td>13</td>\n",
       "      <td>7</td>\n",
       "      <td>4</td>\n",
       "      <td>4</td>\n",
       "      <td>4</td>\n",
       "      <td>4</td>\n",
       "      <td>4</td>\n",
       "      <td>1</td>\n",
       "    </tr>\n",
       "    <tr>\n",
       "      <th>4</th>\n",
       "      <td>8</td>\n",
       "      <td>11</td>\n",
       "      <td>7</td>\n",
       "      <td>8</td>\n",
       "      <td>10</td>\n",
       "      <td>7</td>\n",
       "      <td>8</td>\n",
       "      <td>1</td>\n",
       "      <td>5</td>\n",
       "      <td>3</td>\n",
       "      <td>2</td>\n",
       "      <td>15</td>\n",
       "      <td>5</td>\n",
       "      <td>3</td>\n",
       "      <td>6</td>\n",
       "      <td>12</td>\n",
       "      <td>5</td>\n",
       "      <td>4</td>\n",
       "      <td>7</td>\n",
       "      <td>1</td>\n",
       "    </tr>\n",
       "    <tr>\n",
       "      <th>5</th>\n",
       "      <td>10</td>\n",
       "      <td>14</td>\n",
       "      <td>8</td>\n",
       "      <td>6</td>\n",
       "      <td>15</td>\n",
       "      <td>8</td>\n",
       "      <td>10</td>\n",
       "      <td>1</td>\n",
       "      <td>3</td>\n",
       "      <td>4</td>\n",
       "      <td>2</td>\n",
       "      <td>14</td>\n",
       "      <td>8</td>\n",
       "      <td>7</td>\n",
       "      <td>2</td>\n",
       "      <td>7</td>\n",
       "      <td>13</td>\n",
       "      <td>9</td>\n",
       "      <td>6</td>\n",
       "      <td>1</td>\n",
       "    </tr>\n",
       "    <tr>\n",
       "      <th>6</th>\n",
       "      <td>10</td>\n",
       "      <td>15</td>\n",
       "      <td>4</td>\n",
       "      <td>6</td>\n",
       "      <td>14</td>\n",
       "      <td>6</td>\n",
       "      <td>10</td>\n",
       "      <td>5</td>\n",
       "      <td>3</td>\n",
       "      <td>7</td>\n",
       "      <td>2</td>\n",
       "      <td>7</td>\n",
       "      <td>13</td>\n",
       "      <td>3</td>\n",
       "      <td>3</td>\n",
       "      <td>15</td>\n",
       "      <td>3</td>\n",
       "      <td>3</td>\n",
       "      <td>5</td>\n",
       "      <td>1</td>\n",
       "    </tr>\n",
       "    <tr>\n",
       "      <th>7</th>\n",
       "      <td>8</td>\n",
       "      <td>12</td>\n",
       "      <td>9</td>\n",
       "      <td>10</td>\n",
       "      <td>10</td>\n",
       "      <td>5</td>\n",
       "      <td>10</td>\n",
       "      <td>5</td>\n",
       "      <td>5</td>\n",
       "      <td>5</td>\n",
       "      <td>2</td>\n",
       "      <td>10</td>\n",
       "      <td>9</td>\n",
       "      <td>13</td>\n",
       "      <td>2</td>\n",
       "      <td>9</td>\n",
       "      <td>8</td>\n",
       "      <td>7</td>\n",
       "      <td>12</td>\n",
       "      <td>1</td>\n",
       "    </tr>\n",
       "    <tr>\n",
       "      <th>8</th>\n",
       "      <td>10</td>\n",
       "      <td>15</td>\n",
       "      <td>7</td>\n",
       "      <td>2</td>\n",
       "      <td>15</td>\n",
       "      <td>6</td>\n",
       "      <td>10</td>\n",
       "      <td>1</td>\n",
       "      <td>3</td>\n",
       "      <td>5</td>\n",
       "      <td>2</td>\n",
       "      <td>9</td>\n",
       "      <td>15</td>\n",
       "      <td>13</td>\n",
       "      <td>10</td>\n",
       "      <td>15</td>\n",
       "      <td>13</td>\n",
       "      <td>15</td>\n",
       "      <td>15</td>\n",
       "      <td>1</td>\n",
       "    </tr>\n",
       "    <tr>\n",
       "      <th>9</th>\n",
       "      <td>7</td>\n",
       "      <td>15</td>\n",
       "      <td>7</td>\n",
       "      <td>6</td>\n",
       "      <td>11</td>\n",
       "      <td>8</td>\n",
       "      <td>8</td>\n",
       "      <td>5</td>\n",
       "      <td>3</td>\n",
       "      <td>3</td>\n",
       "      <td>4</td>\n",
       "      <td>15</td>\n",
       "      <td>3</td>\n",
       "      <td>8</td>\n",
       "      <td>2</td>\n",
       "      <td>9</td>\n",
       "      <td>3</td>\n",
       "      <td>4</td>\n",
       "      <td>4</td>\n",
       "      <td>1</td>\n",
       "    </tr>\n",
       "    <tr>\n",
       "      <th>10</th>\n",
       "      <td>7</td>\n",
       "      <td>15</td>\n",
       "      <td>7</td>\n",
       "      <td>10</td>\n",
       "      <td>14</td>\n",
       "      <td>7</td>\n",
       "      <td>9</td>\n",
       "      <td>1</td>\n",
       "      <td>3</td>\n",
       "      <td>8</td>\n",
       "      <td>2</td>\n",
       "      <td>4</td>\n",
       "      <td>3</td>\n",
       "      <td>7</td>\n",
       "      <td>9</td>\n",
       "      <td>13</td>\n",
       "      <td>8</td>\n",
       "      <td>3</td>\n",
       "      <td>9</td>\n",
       "      <td>1</td>\n",
       "    </tr>\n",
       "    <tr>\n",
       "      <th>11</th>\n",
       "      <td>10</td>\n",
       "      <td>15</td>\n",
       "      <td>8</td>\n",
       "      <td>9</td>\n",
       "      <td>15</td>\n",
       "      <td>7</td>\n",
       "      <td>10</td>\n",
       "      <td>1</td>\n",
       "      <td>3</td>\n",
       "      <td>7</td>\n",
       "      <td>2</td>\n",
       "      <td>15</td>\n",
       "      <td>3</td>\n",
       "      <td>3</td>\n",
       "      <td>6</td>\n",
       "      <td>13</td>\n",
       "      <td>7</td>\n",
       "      <td>5</td>\n",
       "      <td>9</td>\n",
       "      <td>1</td>\n",
       "    </tr>\n",
       "    <tr>\n",
       "      <th>12</th>\n",
       "      <td>10</td>\n",
       "      <td>15</td>\n",
       "      <td>12</td>\n",
       "      <td>10</td>\n",
       "      <td>15</td>\n",
       "      <td>6</td>\n",
       "      <td>10</td>\n",
       "      <td>1</td>\n",
       "      <td>3</td>\n",
       "      <td>3</td>\n",
       "      <td>2</td>\n",
       "      <td>4</td>\n",
       "      <td>3</td>\n",
       "      <td>3</td>\n",
       "      <td>2</td>\n",
       "      <td>15</td>\n",
       "      <td>13</td>\n",
       "      <td>6</td>\n",
       "      <td>11</td>\n",
       "      <td>1</td>\n",
       "    </tr>\n",
       "    <tr>\n",
       "      <th>13</th>\n",
       "      <td>9</td>\n",
       "      <td>12</td>\n",
       "      <td>14</td>\n",
       "      <td>9</td>\n",
       "      <td>15</td>\n",
       "      <td>10</td>\n",
       "      <td>9</td>\n",
       "      <td>3</td>\n",
       "      <td>6</td>\n",
       "      <td>3</td>\n",
       "      <td>2</td>\n",
       "      <td>15</td>\n",
       "      <td>15</td>\n",
       "      <td>3</td>\n",
       "      <td>10</td>\n",
       "      <td>15</td>\n",
       "      <td>11</td>\n",
       "      <td>3</td>\n",
       "      <td>11</td>\n",
       "      <td>1</td>\n",
       "    </tr>\n",
       "    <tr>\n",
       "      <th>14</th>\n",
       "      <td>2</td>\n",
       "      <td>15</td>\n",
       "      <td>15</td>\n",
       "      <td>6</td>\n",
       "      <td>13</td>\n",
       "      <td>8</td>\n",
       "      <td>9</td>\n",
       "      <td>1</td>\n",
       "      <td>3</td>\n",
       "      <td>3</td>\n",
       "      <td>4</td>\n",
       "      <td>15</td>\n",
       "      <td>3</td>\n",
       "      <td>7</td>\n",
       "      <td>6</td>\n",
       "      <td>7</td>\n",
       "      <td>7</td>\n",
       "      <td>7</td>\n",
       "      <td>3</td>\n",
       "      <td>1</td>\n",
       "    </tr>\n",
       "    <tr>\n",
       "      <th>15</th>\n",
       "      <td>10</td>\n",
       "      <td>15</td>\n",
       "      <td>7</td>\n",
       "      <td>6</td>\n",
       "      <td>14</td>\n",
       "      <td>8</td>\n",
       "      <td>8</td>\n",
       "      <td>4</td>\n",
       "      <td>8</td>\n",
       "      <td>10</td>\n",
       "      <td>2</td>\n",
       "      <td>3</td>\n",
       "      <td>3</td>\n",
       "      <td>3</td>\n",
       "      <td>2</td>\n",
       "      <td>5</td>\n",
       "      <td>5</td>\n",
       "      <td>5</td>\n",
       "      <td>3</td>\n",
       "      <td>1</td>\n",
       "    </tr>\n",
       "    <tr>\n",
       "      <th>16</th>\n",
       "      <td>10</td>\n",
       "      <td>15</td>\n",
       "      <td>9</td>\n",
       "      <td>7</td>\n",
       "      <td>6</td>\n",
       "      <td>8</td>\n",
       "      <td>8</td>\n",
       "      <td>1</td>\n",
       "      <td>12</td>\n",
       "      <td>5</td>\n",
       "      <td>4</td>\n",
       "      <td>5</td>\n",
       "      <td>4</td>\n",
       "      <td>3</td>\n",
       "      <td>3</td>\n",
       "      <td>5</td>\n",
       "      <td>7</td>\n",
       "      <td>7</td>\n",
       "      <td>3</td>\n",
       "      <td>1</td>\n",
       "    </tr>\n",
       "    <tr>\n",
       "      <th>17</th>\n",
       "      <td>10</td>\n",
       "      <td>12</td>\n",
       "      <td>7</td>\n",
       "      <td>5</td>\n",
       "      <td>10</td>\n",
       "      <td>8</td>\n",
       "      <td>8</td>\n",
       "      <td>1</td>\n",
       "      <td>8</td>\n",
       "      <td>10</td>\n",
       "      <td>4</td>\n",
       "      <td>6</td>\n",
       "      <td>3</td>\n",
       "      <td>3</td>\n",
       "      <td>2</td>\n",
       "      <td>4</td>\n",
       "      <td>4</td>\n",
       "      <td>3</td>\n",
       "      <td>5</td>\n",
       "      <td>1</td>\n",
       "    </tr>\n",
       "    <tr>\n",
       "      <th>18</th>\n",
       "      <td>10</td>\n",
       "      <td>11</td>\n",
       "      <td>12</td>\n",
       "      <td>2</td>\n",
       "      <td>10</td>\n",
       "      <td>8</td>\n",
       "      <td>8</td>\n",
       "      <td>2</td>\n",
       "      <td>10</td>\n",
       "      <td>8</td>\n",
       "      <td>7</td>\n",
       "      <td>6</td>\n",
       "      <td>5</td>\n",
       "      <td>3</td>\n",
       "      <td>2</td>\n",
       "      <td>4</td>\n",
       "      <td>4</td>\n",
       "      <td>4</td>\n",
       "      <td>3</td>\n",
       "      <td>1</td>\n",
       "    </tr>\n",
       "    <tr>\n",
       "      <th>19</th>\n",
       "      <td>10</td>\n",
       "      <td>12</td>\n",
       "      <td>12</td>\n",
       "      <td>8</td>\n",
       "      <td>10</td>\n",
       "      <td>8</td>\n",
       "      <td>6</td>\n",
       "      <td>2</td>\n",
       "      <td>7</td>\n",
       "      <td>6</td>\n",
       "      <td>2</td>\n",
       "      <td>12</td>\n",
       "      <td>11</td>\n",
       "      <td>9</td>\n",
       "      <td>8</td>\n",
       "      <td>12</td>\n",
       "      <td>10</td>\n",
       "      <td>10</td>\n",
       "      <td>9</td>\n",
       "      <td>1</td>\n",
       "    </tr>\n",
       "  </tbody>\n",
       "</table>\n",
       "</div>"
      ],
      "text/plain": [
       "    behavior_sexualRisk  behavior_eating  behavior_personalHygine  \\\n",
       "0                    10               13                       12   \n",
       "1                    10               11                       11   \n",
       "2                    10               15                        3   \n",
       "3                    10               11                       10   \n",
       "4                     8               11                        7   \n",
       "5                    10               14                        8   \n",
       "6                    10               15                        4   \n",
       "7                     8               12                        9   \n",
       "8                    10               15                        7   \n",
       "9                     7               15                        7   \n",
       "10                    7               15                        7   \n",
       "11                   10               15                        8   \n",
       "12                   10               15                       12   \n",
       "13                    9               12                       14   \n",
       "14                    2               15                       15   \n",
       "15                   10               15                        7   \n",
       "16                   10               15                        9   \n",
       "17                   10               12                        7   \n",
       "18                   10               11                       12   \n",
       "19                   10               12                       12   \n",
       "\n",
       "    intention_aggregation  intention_commitment  attitude_consistency  \\\n",
       "0                       4                     7                     9   \n",
       "1                      10                    14                     7   \n",
       "2                       2                    14                     8   \n",
       "3                      10                    15                     7   \n",
       "4                       8                    10                     7   \n",
       "5                       6                    15                     8   \n",
       "6                       6                    14                     6   \n",
       "7                      10                    10                     5   \n",
       "8                       2                    15                     6   \n",
       "9                       6                    11                     8   \n",
       "10                     10                    14                     7   \n",
       "11                      9                    15                     7   \n",
       "12                     10                    15                     6   \n",
       "13                      9                    15                    10   \n",
       "14                      6                    13                     8   \n",
       "15                      6                    14                     8   \n",
       "16                      7                     6                     8   \n",
       "17                      5                    10                     8   \n",
       "18                      2                    10                     8   \n",
       "19                      8                    10                     8   \n",
       "\n",
       "    attitude_spontaneity  norm_significantPerson  norm_fulfillment  \\\n",
       "0                     10                       1                 8   \n",
       "1                      7                       5                 5   \n",
       "2                     10                       1                 4   \n",
       "3                      7                       1                 5   \n",
       "4                      8                       1                 5   \n",
       "5                     10                       1                 3   \n",
       "6                     10                       5                 3   \n",
       "7                     10                       5                 5   \n",
       "8                     10                       1                 3   \n",
       "9                      8                       5                 3   \n",
       "10                     9                       1                 3   \n",
       "11                    10                       1                 3   \n",
       "12                    10                       1                 3   \n",
       "13                     9                       3                 6   \n",
       "14                     9                       1                 3   \n",
       "15                     8                       4                 8   \n",
       "16                     8                       1                12   \n",
       "17                     8                       1                 8   \n",
       "18                     8                       2                10   \n",
       "19                     6                       2                 7   \n",
       "\n",
       "    perception_vulnerability  perception_severity  motivation_strength  \\\n",
       "0                          7                    3                   14   \n",
       "1                          4                    2                   15   \n",
       "2                          7                    2                    7   \n",
       "3                          4                    2                   15   \n",
       "4                          3                    2                   15   \n",
       "5                          4                    2                   14   \n",
       "6                          7                    2                    7   \n",
       "7                          5                    2                   10   \n",
       "8                          5                    2                    9   \n",
       "9                          3                    4                   15   \n",
       "10                         8                    2                    4   \n",
       "11                         7                    2                   15   \n",
       "12                         3                    2                    4   \n",
       "13                         3                    2                   15   \n",
       "14                         3                    4                   15   \n",
       "15                        10                    2                    3   \n",
       "16                         5                    4                    5   \n",
       "17                        10                    4                    6   \n",
       "18                         8                    7                    6   \n",
       "19                         6                    2                   12   \n",
       "\n",
       "    motivation_willingness  socialSupport_emotionality  \\\n",
       "0                        8                           5   \n",
       "1                       13                           7   \n",
       "2                        3                           3   \n",
       "3                       13                           7   \n",
       "4                        5                           3   \n",
       "5                        8                           7   \n",
       "6                       13                           3   \n",
       "7                        9                          13   \n",
       "8                       15                          13   \n",
       "9                        3                           8   \n",
       "10                       3                           7   \n",
       "11                       3                           3   \n",
       "12                       3                           3   \n",
       "13                      15                           3   \n",
       "14                       3                           7   \n",
       "15                       3                           3   \n",
       "16                       4                           3   \n",
       "17                       3                           3   \n",
       "18                       5                           3   \n",
       "19                      11                           9   \n",
       "\n",
       "    socialSupport_appreciation  socialSupport_instrumental  \\\n",
       "0                            7                          12   \n",
       "1                            6                           5   \n",
       "2                            6                          11   \n",
       "3                            4                           4   \n",
       "4                            6                          12   \n",
       "5                            2                           7   \n",
       "6                            3                          15   \n",
       "7                            2                           9   \n",
       "8                           10                          15   \n",
       "9                            2                           9   \n",
       "10                           9                          13   \n",
       "11                           6                          13   \n",
       "12                           2                          15   \n",
       "13                          10                          15   \n",
       "14                           6                           7   \n",
       "15                           2                           5   \n",
       "16                           3                           5   \n",
       "17                           2                           4   \n",
       "18                           2                           4   \n",
       "19                           8                          12   \n",
       "\n",
       "    empowerment_knowledge  empowerment_abilities  empowerment_desires  \\\n",
       "0                      12                     11                    8   \n",
       "1                       5                      4                    4   \n",
       "2                       3                      3                   15   \n",
       "3                       4                      4                    4   \n",
       "4                       5                      4                    7   \n",
       "5                      13                      9                    6   \n",
       "6                       3                      3                    5   \n",
       "7                       8                      7                   12   \n",
       "8                      13                     15                   15   \n",
       "9                       3                      4                    4   \n",
       "10                      8                      3                    9   \n",
       "11                      7                      5                    9   \n",
       "12                     13                      6                   11   \n",
       "13                     11                      3                   11   \n",
       "14                      7                      7                    3   \n",
       "15                      5                      5                    3   \n",
       "16                      7                      7                    3   \n",
       "17                      4                      3                    5   \n",
       "18                      4                      4                    3   \n",
       "19                     10                     10                    9   \n",
       "\n",
       "    ca_cervix  \n",
       "0           1  \n",
       "1           1  \n",
       "2           1  \n",
       "3           1  \n",
       "4           1  \n",
       "5           1  \n",
       "6           1  \n",
       "7           1  \n",
       "8           1  \n",
       "9           1  \n",
       "10          1  \n",
       "11          1  \n",
       "12          1  \n",
       "13          1  \n",
       "14          1  \n",
       "15          1  \n",
       "16          1  \n",
       "17          1  \n",
       "18          1  \n",
       "19          1  "
      ]
     },
     "execution_count": 3,
     "metadata": {},
     "output_type": "execute_result"
    }
   ],
   "source": [
    "# To print the first 20 observations from the data\n",
    "cervical_cancer.head(20)"
   ]
  },
  {
   "cell_type": "code",
   "execution_count": 4,
   "metadata": {},
   "outputs": [
    {
     "data": {
      "text/plain": [
       "behavior_sexualRisk           int64\n",
       "behavior_eating               int64\n",
       "behavior_personalHygine       int64\n",
       "intention_aggregation         int64\n",
       "intention_commitment          int64\n",
       "attitude_consistency          int64\n",
       "attitude_spontaneity          int64\n",
       "norm_significantPerson        int64\n",
       "norm_fulfillment              int64\n",
       "perception_vulnerability      int64\n",
       "perception_severity           int64\n",
       "motivation_strength           int64\n",
       "motivation_willingness        int64\n",
       "socialSupport_emotionality    int64\n",
       "socialSupport_appreciation    int64\n",
       "socialSupport_instrumental    int64\n",
       "empowerment_knowledge         int64\n",
       "empowerment_abilities         int64\n",
       "empowerment_desires           int64\n",
       "ca_cervix                     int64\n",
       "dtype: object"
      ]
     },
     "execution_count": 4,
     "metadata": {},
     "output_type": "execute_result"
    }
   ],
   "source": [
    "# To check the data types of all variables\n",
    "cervical_cancer.dtypes"
   ]
  },
  {
   "cell_type": "code",
   "execution_count": 5,
   "metadata": {},
   "outputs": [
    {
     "data": {
      "text/plain": [
       "(72, 20)"
      ]
     },
     "execution_count": 5,
     "metadata": {},
     "output_type": "execute_result"
    }
   ],
   "source": [
    "# To check the number of observations and the variables\n",
    "cervical_cancer.shape"
   ]
  },
  {
   "cell_type": "code",
   "execution_count": 6,
   "metadata": {},
   "outputs": [
    {
     "data": {
      "text/plain": [
       "Index(['behavior_sexualRisk', 'behavior_eating', 'behavior_personalHygine',\n",
       "       'intention_aggregation', 'intention_commitment', 'attitude_consistency',\n",
       "       'attitude_spontaneity', 'norm_significantPerson', 'norm_fulfillment',\n",
       "       'perception_vulnerability', 'perception_severity',\n",
       "       'motivation_strength', 'motivation_willingness',\n",
       "       'socialSupport_emotionality', 'socialSupport_appreciation',\n",
       "       'socialSupport_instrumental', 'empowerment_knowledge',\n",
       "       'empowerment_abilities', 'empowerment_desires', 'ca_cervix'],\n",
       "      dtype='object')"
      ]
     },
     "execution_count": 6,
     "metadata": {},
     "output_type": "execute_result"
    }
   ],
   "source": [
    "# To check the column names of all variables\n",
    "cervical_cancer.columns"
   ]
  },
  {
   "cell_type": "code",
   "execution_count": 7,
   "metadata": {},
   "outputs": [
    {
     "data": {
      "text/plain": [
       "False"
      ]
     },
     "execution_count": 7,
     "metadata": {},
     "output_type": "execute_result"
    }
   ],
   "source": [
    "# To check if the data consists of null values\n",
    "cervical_cancer.isnull().values.any()"
   ]
  },
  {
   "cell_type": "code",
   "execution_count": 8,
   "metadata": {},
   "outputs": [
    {
     "data": {
      "text/html": [
       "<div>\n",
       "<style scoped>\n",
       "    .dataframe tbody tr th:only-of-type {\n",
       "        vertical-align: middle;\n",
       "    }\n",
       "\n",
       "    .dataframe tbody tr th {\n",
       "        vertical-align: top;\n",
       "    }\n",
       "\n",
       "    .dataframe thead th {\n",
       "        text-align: right;\n",
       "    }\n",
       "</style>\n",
       "<table border=\"1\" class=\"dataframe\">\n",
       "  <thead>\n",
       "    <tr style=\"text-align: right;\">\n",
       "      <th></th>\n",
       "      <th>behavior_sexualRisk</th>\n",
       "      <th>behavior_eating</th>\n",
       "      <th>behavior_personalHygine</th>\n",
       "      <th>intention_aggregation</th>\n",
       "      <th>intention_commitment</th>\n",
       "      <th>attitude_consistency</th>\n",
       "      <th>attitude_spontaneity</th>\n",
       "      <th>norm_significantPerson</th>\n",
       "      <th>norm_fulfillment</th>\n",
       "      <th>perception_vulnerability</th>\n",
       "      <th>perception_severity</th>\n",
       "      <th>motivation_strength</th>\n",
       "      <th>motivation_willingness</th>\n",
       "      <th>socialSupport_emotionality</th>\n",
       "      <th>socialSupport_appreciation</th>\n",
       "      <th>socialSupport_instrumental</th>\n",
       "      <th>empowerment_knowledge</th>\n",
       "      <th>empowerment_abilities</th>\n",
       "      <th>empowerment_desires</th>\n",
       "      <th>ca_cervix</th>\n",
       "    </tr>\n",
       "  </thead>\n",
       "  <tbody>\n",
       "    <tr>\n",
       "      <th>count</th>\n",
       "      <td>72.000000</td>\n",
       "      <td>72.000000</td>\n",
       "      <td>72.000000</td>\n",
       "      <td>72.000000</td>\n",
       "      <td>72.000000</td>\n",
       "      <td>72.000000</td>\n",
       "      <td>72.000000</td>\n",
       "      <td>72.000000</td>\n",
       "      <td>72.000000</td>\n",
       "      <td>72.000000</td>\n",
       "      <td>72.000000</td>\n",
       "      <td>72.000000</td>\n",
       "      <td>72.000000</td>\n",
       "      <td>72.000000</td>\n",
       "      <td>72.000000</td>\n",
       "      <td>72.000000</td>\n",
       "      <td>72.000000</td>\n",
       "      <td>72.000000</td>\n",
       "      <td>72.000000</td>\n",
       "      <td>72.000000</td>\n",
       "    </tr>\n",
       "    <tr>\n",
       "      <th>mean</th>\n",
       "      <td>9.666667</td>\n",
       "      <td>12.791667</td>\n",
       "      <td>11.083333</td>\n",
       "      <td>7.902778</td>\n",
       "      <td>13.347222</td>\n",
       "      <td>7.180556</td>\n",
       "      <td>8.611111</td>\n",
       "      <td>3.125000</td>\n",
       "      <td>8.486111</td>\n",
       "      <td>8.513889</td>\n",
       "      <td>5.388889</td>\n",
       "      <td>12.652778</td>\n",
       "      <td>9.694444</td>\n",
       "      <td>8.097222</td>\n",
       "      <td>6.166667</td>\n",
       "      <td>10.375000</td>\n",
       "      <td>10.541667</td>\n",
       "      <td>9.319444</td>\n",
       "      <td>10.277778</td>\n",
       "      <td>0.291667</td>\n",
       "    </tr>\n",
       "    <tr>\n",
       "      <th>std</th>\n",
       "      <td>1.186782</td>\n",
       "      <td>2.361293</td>\n",
       "      <td>3.033847</td>\n",
       "      <td>2.738148</td>\n",
       "      <td>2.374511</td>\n",
       "      <td>1.522844</td>\n",
       "      <td>1.515698</td>\n",
       "      <td>1.845722</td>\n",
       "      <td>4.907577</td>\n",
       "      <td>4.275686</td>\n",
       "      <td>3.400727</td>\n",
       "      <td>3.207209</td>\n",
       "      <td>4.130406</td>\n",
       "      <td>4.243171</td>\n",
       "      <td>2.897303</td>\n",
       "      <td>4.316485</td>\n",
       "      <td>4.366768</td>\n",
       "      <td>4.181874</td>\n",
       "      <td>4.482273</td>\n",
       "      <td>0.457719</td>\n",
       "    </tr>\n",
       "    <tr>\n",
       "      <th>min</th>\n",
       "      <td>2.000000</td>\n",
       "      <td>3.000000</td>\n",
       "      <td>3.000000</td>\n",
       "      <td>2.000000</td>\n",
       "      <td>6.000000</td>\n",
       "      <td>2.000000</td>\n",
       "      <td>4.000000</td>\n",
       "      <td>1.000000</td>\n",
       "      <td>3.000000</td>\n",
       "      <td>3.000000</td>\n",
       "      <td>2.000000</td>\n",
       "      <td>3.000000</td>\n",
       "      <td>3.000000</td>\n",
       "      <td>3.000000</td>\n",
       "      <td>2.000000</td>\n",
       "      <td>3.000000</td>\n",
       "      <td>3.000000</td>\n",
       "      <td>3.000000</td>\n",
       "      <td>3.000000</td>\n",
       "      <td>0.000000</td>\n",
       "    </tr>\n",
       "    <tr>\n",
       "      <th>25%</th>\n",
       "      <td>10.000000</td>\n",
       "      <td>11.000000</td>\n",
       "      <td>9.000000</td>\n",
       "      <td>6.000000</td>\n",
       "      <td>11.000000</td>\n",
       "      <td>6.000000</td>\n",
       "      <td>8.000000</td>\n",
       "      <td>1.000000</td>\n",
       "      <td>3.000000</td>\n",
       "      <td>5.000000</td>\n",
       "      <td>2.000000</td>\n",
       "      <td>11.000000</td>\n",
       "      <td>7.000000</td>\n",
       "      <td>3.000000</td>\n",
       "      <td>3.750000</td>\n",
       "      <td>6.750000</td>\n",
       "      <td>7.000000</td>\n",
       "      <td>5.000000</td>\n",
       "      <td>6.750000</td>\n",
       "      <td>0.000000</td>\n",
       "    </tr>\n",
       "    <tr>\n",
       "      <th>50%</th>\n",
       "      <td>10.000000</td>\n",
       "      <td>13.000000</td>\n",
       "      <td>11.000000</td>\n",
       "      <td>10.000000</td>\n",
       "      <td>15.000000</td>\n",
       "      <td>7.000000</td>\n",
       "      <td>9.000000</td>\n",
       "      <td>3.000000</td>\n",
       "      <td>7.000000</td>\n",
       "      <td>8.000000</td>\n",
       "      <td>4.000000</td>\n",
       "      <td>14.000000</td>\n",
       "      <td>11.000000</td>\n",
       "      <td>9.000000</td>\n",
       "      <td>6.500000</td>\n",
       "      <td>12.000000</td>\n",
       "      <td>12.000000</td>\n",
       "      <td>10.000000</td>\n",
       "      <td>11.000000</td>\n",
       "      <td>0.000000</td>\n",
       "    </tr>\n",
       "    <tr>\n",
       "      <th>75%</th>\n",
       "      <td>10.000000</td>\n",
       "      <td>15.000000</td>\n",
       "      <td>14.000000</td>\n",
       "      <td>10.000000</td>\n",
       "      <td>15.000000</td>\n",
       "      <td>8.000000</td>\n",
       "      <td>10.000000</td>\n",
       "      <td>5.000000</td>\n",
       "      <td>14.000000</td>\n",
       "      <td>13.000000</td>\n",
       "      <td>9.000000</td>\n",
       "      <td>15.000000</td>\n",
       "      <td>13.000000</td>\n",
       "      <td>11.250000</td>\n",
       "      <td>9.000000</td>\n",
       "      <td>14.250000</td>\n",
       "      <td>15.000000</td>\n",
       "      <td>13.000000</td>\n",
       "      <td>15.000000</td>\n",
       "      <td>1.000000</td>\n",
       "    </tr>\n",
       "    <tr>\n",
       "      <th>max</th>\n",
       "      <td>10.000000</td>\n",
       "      <td>15.000000</td>\n",
       "      <td>15.000000</td>\n",
       "      <td>10.000000</td>\n",
       "      <td>15.000000</td>\n",
       "      <td>10.000000</td>\n",
       "      <td>10.000000</td>\n",
       "      <td>5.000000</td>\n",
       "      <td>15.000000</td>\n",
       "      <td>15.000000</td>\n",
       "      <td>10.000000</td>\n",
       "      <td>15.000000</td>\n",
       "      <td>15.000000</td>\n",
       "      <td>15.000000</td>\n",
       "      <td>10.000000</td>\n",
       "      <td>15.000000</td>\n",
       "      <td>15.000000</td>\n",
       "      <td>15.000000</td>\n",
       "      <td>15.000000</td>\n",
       "      <td>1.000000</td>\n",
       "    </tr>\n",
       "  </tbody>\n",
       "</table>\n",
       "</div>"
      ],
      "text/plain": [
       "       behavior_sexualRisk  behavior_eating  behavior_personalHygine  \\\n",
       "count            72.000000        72.000000                72.000000   \n",
       "mean              9.666667        12.791667                11.083333   \n",
       "std               1.186782         2.361293                 3.033847   \n",
       "min               2.000000         3.000000                 3.000000   \n",
       "25%              10.000000        11.000000                 9.000000   \n",
       "50%              10.000000        13.000000                11.000000   \n",
       "75%              10.000000        15.000000                14.000000   \n",
       "max              10.000000        15.000000                15.000000   \n",
       "\n",
       "       intention_aggregation  intention_commitment  attitude_consistency  \\\n",
       "count              72.000000             72.000000             72.000000   \n",
       "mean                7.902778             13.347222              7.180556   \n",
       "std                 2.738148              2.374511              1.522844   \n",
       "min                 2.000000              6.000000              2.000000   \n",
       "25%                 6.000000             11.000000              6.000000   \n",
       "50%                10.000000             15.000000              7.000000   \n",
       "75%                10.000000             15.000000              8.000000   \n",
       "max                10.000000             15.000000             10.000000   \n",
       "\n",
       "       attitude_spontaneity  norm_significantPerson  norm_fulfillment  \\\n",
       "count             72.000000               72.000000         72.000000   \n",
       "mean               8.611111                3.125000          8.486111   \n",
       "std                1.515698                1.845722          4.907577   \n",
       "min                4.000000                1.000000          3.000000   \n",
       "25%                8.000000                1.000000          3.000000   \n",
       "50%                9.000000                3.000000          7.000000   \n",
       "75%               10.000000                5.000000         14.000000   \n",
       "max               10.000000                5.000000         15.000000   \n",
       "\n",
       "       perception_vulnerability  perception_severity  motivation_strength  \\\n",
       "count                 72.000000            72.000000            72.000000   \n",
       "mean                   8.513889             5.388889            12.652778   \n",
       "std                    4.275686             3.400727             3.207209   \n",
       "min                    3.000000             2.000000             3.000000   \n",
       "25%                    5.000000             2.000000            11.000000   \n",
       "50%                    8.000000             4.000000            14.000000   \n",
       "75%                   13.000000             9.000000            15.000000   \n",
       "max                   15.000000            10.000000            15.000000   \n",
       "\n",
       "       motivation_willingness  socialSupport_emotionality  \\\n",
       "count               72.000000                   72.000000   \n",
       "mean                 9.694444                    8.097222   \n",
       "std                  4.130406                    4.243171   \n",
       "min                  3.000000                    3.000000   \n",
       "25%                  7.000000                    3.000000   \n",
       "50%                 11.000000                    9.000000   \n",
       "75%                 13.000000                   11.250000   \n",
       "max                 15.000000                   15.000000   \n",
       "\n",
       "       socialSupport_appreciation  socialSupport_instrumental  \\\n",
       "count                   72.000000                   72.000000   \n",
       "mean                     6.166667                   10.375000   \n",
       "std                      2.897303                    4.316485   \n",
       "min                      2.000000                    3.000000   \n",
       "25%                      3.750000                    6.750000   \n",
       "50%                      6.500000                   12.000000   \n",
       "75%                      9.000000                   14.250000   \n",
       "max                     10.000000                   15.000000   \n",
       "\n",
       "       empowerment_knowledge  empowerment_abilities  empowerment_desires  \\\n",
       "count              72.000000              72.000000            72.000000   \n",
       "mean               10.541667               9.319444            10.277778   \n",
       "std                 4.366768               4.181874             4.482273   \n",
       "min                 3.000000               3.000000             3.000000   \n",
       "25%                 7.000000               5.000000             6.750000   \n",
       "50%                12.000000              10.000000            11.000000   \n",
       "75%                15.000000              13.000000            15.000000   \n",
       "max                15.000000              15.000000            15.000000   \n",
       "\n",
       "       ca_cervix  \n",
       "count  72.000000  \n",
       "mean    0.291667  \n",
       "std     0.457719  \n",
       "min     0.000000  \n",
       "25%     0.000000  \n",
       "50%     0.000000  \n",
       "75%     1.000000  \n",
       "max     1.000000  "
      ]
     },
     "execution_count": 8,
     "metadata": {},
     "output_type": "execute_result"
    }
   ],
   "source": [
    "#To check the Summary of dataset\n",
    "cervical_cancer.describe()"
   ]
  },
  {
   "cell_type": "code",
   "execution_count": 9,
   "metadata": {},
   "outputs": [
    {
     "data": {
      "text/html": [
       "<div>\n",
       "<style scoped>\n",
       "    .dataframe tbody tr th:only-of-type {\n",
       "        vertical-align: middle;\n",
       "    }\n",
       "\n",
       "    .dataframe tbody tr th {\n",
       "        vertical-align: top;\n",
       "    }\n",
       "\n",
       "    .dataframe thead th {\n",
       "        text-align: right;\n",
       "    }\n",
       "</style>\n",
       "<table border=\"1\" class=\"dataframe\">\n",
       "  <thead>\n",
       "    <tr style=\"text-align: right;\">\n",
       "      <th></th>\n",
       "      <th>behavior_sexualRisk</th>\n",
       "      <th>behavior_eating</th>\n",
       "      <th>behavior_personalHygine</th>\n",
       "      <th>perception_vulnerability</th>\n",
       "      <th>perception_severity</th>\n",
       "      <th>motivation_strength</th>\n",
       "      <th>motivation_willingness</th>\n",
       "      <th>socialSupport_emotionality</th>\n",
       "      <th>socialSupport_appreciation</th>\n",
       "      <th>socialSupport_instrumental</th>\n",
       "      <th>ca_cervix</th>\n",
       "    </tr>\n",
       "  </thead>\n",
       "  <tbody>\n",
       "    <tr>\n",
       "      <th>0</th>\n",
       "      <td>10</td>\n",
       "      <td>13</td>\n",
       "      <td>12</td>\n",
       "      <td>7</td>\n",
       "      <td>3</td>\n",
       "      <td>14</td>\n",
       "      <td>8</td>\n",
       "      <td>5</td>\n",
       "      <td>7</td>\n",
       "      <td>12</td>\n",
       "      <td>1</td>\n",
       "    </tr>\n",
       "    <tr>\n",
       "      <th>1</th>\n",
       "      <td>10</td>\n",
       "      <td>11</td>\n",
       "      <td>11</td>\n",
       "      <td>4</td>\n",
       "      <td>2</td>\n",
       "      <td>15</td>\n",
       "      <td>13</td>\n",
       "      <td>7</td>\n",
       "      <td>6</td>\n",
       "      <td>5</td>\n",
       "      <td>1</td>\n",
       "    </tr>\n",
       "    <tr>\n",
       "      <th>2</th>\n",
       "      <td>10</td>\n",
       "      <td>15</td>\n",
       "      <td>3</td>\n",
       "      <td>7</td>\n",
       "      <td>2</td>\n",
       "      <td>7</td>\n",
       "      <td>3</td>\n",
       "      <td>3</td>\n",
       "      <td>6</td>\n",
       "      <td>11</td>\n",
       "      <td>1</td>\n",
       "    </tr>\n",
       "    <tr>\n",
       "      <th>3</th>\n",
       "      <td>10</td>\n",
       "      <td>11</td>\n",
       "      <td>10</td>\n",
       "      <td>4</td>\n",
       "      <td>2</td>\n",
       "      <td>15</td>\n",
       "      <td>13</td>\n",
       "      <td>7</td>\n",
       "      <td>4</td>\n",
       "      <td>4</td>\n",
       "      <td>1</td>\n",
       "    </tr>\n",
       "    <tr>\n",
       "      <th>4</th>\n",
       "      <td>8</td>\n",
       "      <td>11</td>\n",
       "      <td>7</td>\n",
       "      <td>3</td>\n",
       "      <td>2</td>\n",
       "      <td>15</td>\n",
       "      <td>5</td>\n",
       "      <td>3</td>\n",
       "      <td>6</td>\n",
       "      <td>12</td>\n",
       "      <td>1</td>\n",
       "    </tr>\n",
       "  </tbody>\n",
       "</table>\n",
       "</div>"
      ],
      "text/plain": [
       "   behavior_sexualRisk  behavior_eating  behavior_personalHygine  \\\n",
       "0                   10               13                       12   \n",
       "1                   10               11                       11   \n",
       "2                   10               15                        3   \n",
       "3                   10               11                       10   \n",
       "4                    8               11                        7   \n",
       "\n",
       "   perception_vulnerability  perception_severity  motivation_strength  \\\n",
       "0                         7                    3                   14   \n",
       "1                         4                    2                   15   \n",
       "2                         7                    2                    7   \n",
       "3                         4                    2                   15   \n",
       "4                         3                    2                   15   \n",
       "\n",
       "   motivation_willingness  socialSupport_emotionality  \\\n",
       "0                       8                           5   \n",
       "1                      13                           7   \n",
       "2                       3                           3   \n",
       "3                      13                           7   \n",
       "4                       5                           3   \n",
       "\n",
       "   socialSupport_appreciation  socialSupport_instrumental  ca_cervix  \n",
       "0                           7                          12          1  \n",
       "1                           6                           5          1  \n",
       "2                           6                          11          1  \n",
       "3                           4                           4          1  \n",
       "4                           6                          12          1  "
      ]
     },
     "execution_count": 9,
     "metadata": {},
     "output_type": "execute_result"
    }
   ],
   "source": [
    "# To subset the data with important variables\n",
    "cervical_cancer_subset=cervical_cancer[['behavior_sexualRisk','behavior_eating','behavior_personalHygine','perception_vulnerability','perception_severity','motivation_strength','motivation_willingness','socialSupport_emotionality','socialSupport_appreciation','socialSupport_instrumental','ca_cervix']]\n",
    "cervical_cancer_subset.head()\n"
   ]
  },
  {
   "cell_type": "code",
   "execution_count": 10,
   "metadata": {},
   "outputs": [
    {
     "data": {
      "text/html": [
       "<div>\n",
       "<style scoped>\n",
       "    .dataframe tbody tr th:only-of-type {\n",
       "        vertical-align: middle;\n",
       "    }\n",
       "\n",
       "    .dataframe tbody tr th {\n",
       "        vertical-align: top;\n",
       "    }\n",
       "\n",
       "    .dataframe thead th {\n",
       "        text-align: right;\n",
       "    }\n",
       "</style>\n",
       "<table border=\"1\" class=\"dataframe\">\n",
       "  <thead>\n",
       "    <tr style=\"text-align: right;\">\n",
       "      <th></th>\n",
       "      <th>behaviour_sexualRisk</th>\n",
       "      <th>behaviour_eating</th>\n",
       "      <th>behaviour_personalHygiene</th>\n",
       "      <th>perception_vulnerability</th>\n",
       "      <th>perception_severity</th>\n",
       "      <th>motivation_strength</th>\n",
       "      <th>motivation_willingness</th>\n",
       "      <th>socialSupport_emotionality</th>\n",
       "      <th>socialSupport_appreciation</th>\n",
       "      <th>socialSupport_instrumental</th>\n",
       "      <th>ca_cervix</th>\n",
       "    </tr>\n",
       "  </thead>\n",
       "  <tbody>\n",
       "    <tr>\n",
       "      <th>0</th>\n",
       "      <td>10</td>\n",
       "      <td>13</td>\n",
       "      <td>12</td>\n",
       "      <td>7</td>\n",
       "      <td>3</td>\n",
       "      <td>14</td>\n",
       "      <td>8</td>\n",
       "      <td>5</td>\n",
       "      <td>7</td>\n",
       "      <td>12</td>\n",
       "      <td>1</td>\n",
       "    </tr>\n",
       "    <tr>\n",
       "      <th>1</th>\n",
       "      <td>10</td>\n",
       "      <td>11</td>\n",
       "      <td>11</td>\n",
       "      <td>4</td>\n",
       "      <td>2</td>\n",
       "      <td>15</td>\n",
       "      <td>13</td>\n",
       "      <td>7</td>\n",
       "      <td>6</td>\n",
       "      <td>5</td>\n",
       "      <td>1</td>\n",
       "    </tr>\n",
       "    <tr>\n",
       "      <th>2</th>\n",
       "      <td>10</td>\n",
       "      <td>15</td>\n",
       "      <td>3</td>\n",
       "      <td>7</td>\n",
       "      <td>2</td>\n",
       "      <td>7</td>\n",
       "      <td>3</td>\n",
       "      <td>3</td>\n",
       "      <td>6</td>\n",
       "      <td>11</td>\n",
       "      <td>1</td>\n",
       "    </tr>\n",
       "    <tr>\n",
       "      <th>3</th>\n",
       "      <td>10</td>\n",
       "      <td>11</td>\n",
       "      <td>10</td>\n",
       "      <td>4</td>\n",
       "      <td>2</td>\n",
       "      <td>15</td>\n",
       "      <td>13</td>\n",
       "      <td>7</td>\n",
       "      <td>4</td>\n",
       "      <td>4</td>\n",
       "      <td>1</td>\n",
       "    </tr>\n",
       "    <tr>\n",
       "      <th>4</th>\n",
       "      <td>8</td>\n",
       "      <td>11</td>\n",
       "      <td>7</td>\n",
       "      <td>3</td>\n",
       "      <td>2</td>\n",
       "      <td>15</td>\n",
       "      <td>5</td>\n",
       "      <td>3</td>\n",
       "      <td>6</td>\n",
       "      <td>12</td>\n",
       "      <td>1</td>\n",
       "    </tr>\n",
       "  </tbody>\n",
       "</table>\n",
       "</div>"
      ],
      "text/plain": [
       "   behaviour_sexualRisk  behaviour_eating  behaviour_personalHygiene  \\\n",
       "0                    10                13                         12   \n",
       "1                    10                11                         11   \n",
       "2                    10                15                          3   \n",
       "3                    10                11                         10   \n",
       "4                     8                11                          7   \n",
       "\n",
       "   perception_vulnerability  perception_severity  motivation_strength  \\\n",
       "0                         7                    3                   14   \n",
       "1                         4                    2                   15   \n",
       "2                         7                    2                    7   \n",
       "3                         4                    2                   15   \n",
       "4                         3                    2                   15   \n",
       "\n",
       "   motivation_willingness  socialSupport_emotionality  \\\n",
       "0                       8                           5   \n",
       "1                      13                           7   \n",
       "2                       3                           3   \n",
       "3                      13                           7   \n",
       "4                       5                           3   \n",
       "\n",
       "   socialSupport_appreciation  socialSupport_instrumental  ca_cervix  \n",
       "0                           7                          12          1  \n",
       "1                           6                           5          1  \n",
       "2                           6                          11          1  \n",
       "3                           4                           4          1  \n",
       "4                           6                          12          1  "
      ]
     },
     "execution_count": 10,
     "metadata": {},
     "output_type": "execute_result"
    }
   ],
   "source": [
    "#Renaming the column names\n",
    "c_cancer=cervical_cancer_subset.rename(columns={\"behavior_sexualRisk\": \"behaviour_sexualRisk\", \"behavior_eating\": \"behaviour_eating\",\"behavior_personalHygine\":\"behaviour_personalHygiene\"})\n",
    "c_cancer.head()"
   ]
  },
  {
   "cell_type": "markdown",
   "metadata": {},
   "source": [
    "## Task 2 - Data Exploration"
   ]
  },
  {
   "cell_type": "markdown",
   "metadata": {},
   "source": [
    "### Exploring each column"
   ]
  },
  {
   "cell_type": "code",
   "execution_count": 11,
   "metadata": {},
   "outputs": [
    {
     "data": {
      "image/png": "[encoded data removed]",
      "text/plain": [
       "<Figure size 576x432 with 1 Axes>"
      ]
     },
     "metadata": {
      "needs_background": "light"
     },
     "output_type": "display_data"
    }
   ],
   "source": [
    "# To explore the behaviour sexual risk variable\n",
    "mean=c_cancer['behaviour_sexualRisk'].mean()\n",
    "median=c_cancer['behaviour_sexualRisk'].median()\n",
    "\n",
    "plt.figure(figsize=(8, 6))\n",
    "result = plt.hist(c_cancer['behaviour_sexualRisk'], bins=20, color='skyblue', edgecolor='black', alpha=0.65)\n",
    "\n",
    "plt.axvline(mean, color='black', linewidth=2)\n",
    "plt.axvline(median, color='red', linewidth=2)\n",
    "\n",
    "\n",
    "plt.legend({'Mean':mean,'Median':median})\n",
    "\n",
    "plt.title('Behaviour Sexual Risk', fontsize=20, fontweight = 'bold')\n",
    "plt.show()"
   ]
  },
  {
   "cell_type": "markdown",
   "metadata": {},
   "source": [
    "#### According to the Histogram, we can visualise that approximately 90% of the women have high sexual risk i.e 10 and the rest 10% shares  sexual risk between 2 to 9. The average of behaviour sexual risk is 9.66."
   ]
  },
  {
   "cell_type": "code",
   "execution_count": 12,
   "metadata": {},
   "outputs": [
    {
     "data": {
      "image/png": "[encoded data removed]",
      "text/plain": [
       "<Figure size 576x432 with 1 Axes>"
      ]
     },
     "metadata": {
      "needs_background": "light"
     },
     "output_type": "display_data"
    }
   ],
   "source": [
    "# To explore the behaviour eating variable\n",
    "mean=c_cancer['behaviour_eating'].mean()\n",
    "median=c_cancer['behaviour_eating'].median()\n",
    "\n",
    "plt.figure(figsize=(8, 6))\n",
    "result = plt.hist(c_cancer['behaviour_eating'], bins=20, color='orange', edgecolor='black', alpha=0.65)\n",
    "\n",
    "plt.axvline(mean, color='black', linewidth=2)\n",
    "plt.axvline(median, color='red', linewidth=2)\n",
    "\n",
    "\n",
    "plt.legend({'Mean':mean,'Median':median})\n",
    "\n",
    "plt.title('Behaviour Eating', fontsize=20, fontweight = 'bold')\n",
    "plt.show()"
   ]
  },
  {
   "cell_type": "markdown",
   "metadata": {},
   "source": [
    "#### According to the histogram plot, we can observe that majority women do not follow proper diet and have high eating disorders i.e. 15. The average of behavior eating habits of women lie on 12.79."
   ]
  },
  {
   "cell_type": "code",
   "execution_count": 13,
   "metadata": {},
   "outputs": [
    {
     "data": {
      "image/png": "[encoded data removed]",
      "text/plain": [
       "<Figure size 576x432 with 1 Axes>"
      ]
     },
     "metadata": {
      "needs_background": "light"
     },
     "output_type": "display_data"
    }
   ],
   "source": [
    "# To explore the Behaviour personal hygiene variable\n",
    "\n",
    "mean=c_cancer['behaviour_personalHygiene'].mean()\n",
    "median=c_cancer['behaviour_personalHygiene'].median()\n",
    "\n",
    "plt.figure(figsize=(8, 6))\n",
    "result = plt.hist(c_cancer['behaviour_personalHygiene'], bins=20, color='lightgreen', edgecolor='black', alpha=0.65)\n",
    "\n",
    "plt.axvline(mean, color='red', linewidth=2)\n",
    "plt.axvline(median, color='blue', linewidth=2)\n",
    "\n",
    "\n",
    "plt.legend({'Mean':mean,'Median':median})\n",
    "\n",
    "plt.title('Behaviour Personal Hygiene', fontsize=20, fontweight = 'bold')\n",
    "plt.show()"
   ]
  },
  {
   "cell_type": "markdown",
   "metadata": {},
   "source": [
    "#### According to the histogram plot, we can observe that the majority of women are hygienic. The average of behavior personal hygiene of women lie on 11.08."
   ]
  },
  {
   "cell_type": "code",
   "execution_count": 14,
   "metadata": {},
   "outputs": [
    {
     "data": {
      "image/png": "[encoded data removed]",
      "text/plain": [
       "<Figure size 432x288 with 1 Axes>"
      ]
     },
     "metadata": {
      "needs_background": "light"
     },
     "output_type": "display_data"
    }
   ],
   "source": [
    "# To explore the perception vulnerability variable\n",
    "\n",
    "ax = sns.boxplot(x=\"perception_vulnerability\",  data=c_cancer, color=\"skyblue\").set_title(\"Perception Vulnerability\")"
   ]
  },
  {
   "cell_type": "markdown",
   "metadata": {},
   "source": [
    "#### According to the box plot, we can observe that the perception vulnerability of the women lie with minimum value as 3 and maximum value as 15. The observed Q1, median and Q3 are 5,8 and 13 respectively."
   ]
  },
  {
   "cell_type": "code",
   "execution_count": 15,
   "metadata": {},
   "outputs": [
    {
     "data": {
      "image/png": "[encoded data removed]",
      "text/plain": [
       "<Figure size 432x288 with 1 Axes>"
      ]
     },
     "metadata": {
      "needs_background": "light"
     },
     "output_type": "display_data"
    }
   ],
   "source": [
    "# To explore the perception severity variable\n",
    "\n",
    "ax = sns.boxplot(x=\"perception_severity\",  data=c_cancer, palette=\"spring\").set_title(\"Perception Severity\")"
   ]
  },
  {
   "cell_type": "markdown",
   "metadata": {},
   "source": [
    "#### According to the box plot, we can observe that the perception severity of the women lie with minimum value as 2 and maximum value as 10. The observed Q1, median and Q3 are 2,4 and 9 respectively."
   ]
  },
  {
   "cell_type": "code",
   "execution_count": 16,
   "metadata": {},
   "outputs": [
    {
     "data": {
      "image/png": "[encoded data removed]",
      "text/plain": [
       "<Figure size 576x432 with 1 Axes>"
      ]
     },
     "metadata": {
      "needs_background": "light"
     },
     "output_type": "display_data"
    }
   ],
   "source": [
    "# To explore the motivation strength variable\n",
    "\n",
    "mean=c_cancer['motivation_strength'].mean()\n",
    "median=c_cancer['motivation_strength'].median()\n",
    "\n",
    "plt.figure(figsize=(8, 6))\n",
    "result = plt.hist(c_cancer['motivation_strength'], bins=20, color='lightgreen', edgecolor='black', alpha=0.65)\n",
    "\n",
    "plt.axvline(mean, color='red', linewidth=2)\n",
    "plt.axvline(median, color='blue', linewidth=2)\n",
    "\n",
    "\n",
    "plt.legend({'Mean':mean,'Median':median})\n",
    "\n",
    "plt.title('Motivation Strength', fontsize=20, fontweight = 'bold')\n",
    "plt.show()"
   ]
  },
  {
   "cell_type": "markdown",
   "metadata": {},
   "source": [
    "#### According to the histogram, we can visualise that the motivation strength in women lies between 3 to 15. Many women show strong motivation strength. The observed mean and median are 12.65 and 14 respectively."
   ]
  },
  {
   "cell_type": "code",
   "execution_count": 17,
   "metadata": {},
   "outputs": [
    {
     "data": {
      "image/png": "[encoded data removed]",
      "text/plain": [
       "<Figure size 576x432 with 1 Axes>"
      ]
     },
     "metadata": {
      "needs_background": "light"
     },
     "output_type": "display_data"
    }
   ],
   "source": [
    "## To explore the Motivation willingness variable\n",
    "\n",
    "mean=c_cancer['motivation_willingness'].mean()\n",
    "median=c_cancer['motivation_willingness'].median()\n",
    "\n",
    "plt.figure(figsize=(8, 6))\n",
    "result = plt.hist(c_cancer['motivation_willingness'], bins=20, color='c', edgecolor='k', alpha=0.65)\n",
    "\n",
    "plt.axvline(mean, color='red', linewidth=2)\n",
    "plt.axvline(median, color='green', linewidth=2)\n",
    "\n",
    "\n",
    "plt.legend({'Mean':mean,'Median':median},loc='upper center')\n",
    "\n",
    "plt.title('Motivation Willingness', fontsize=20, fontweight = 'bold')\n",
    "plt.show()"
   ]
  },
  {
   "cell_type": "markdown",
   "metadata": {},
   "source": [
    "#### According to the histogram, we can visualise that the motivation willingness in women lies between 3 to 15. It is also observed that a lot of women lack willingness whereas, similar number of women shows enthusiam and has strong willpower. The observed mean and median are 9.69 and 11 respectively."
   ]
  },
  {
   "cell_type": "code",
   "execution_count": 18,
   "metadata": {},
   "outputs": [
    {
     "data": {
      "image/png": "[encoded data removed]",
      "text/plain": [
       "<Figure size 576x432 with 1 Axes>"
      ]
     },
     "metadata": {
      "needs_background": "light"
     },
     "output_type": "display_data"
    }
   ],
   "source": [
    "# To explore social Support emotionality variable\n",
    "\n",
    "mean=c_cancer['socialSupport_emotionality'].mean()\n",
    "median=c_cancer['socialSupport_emotionality'].median()\n",
    "\n",
    "plt.figure(figsize=(8, 6))\n",
    "result = plt.hist(c_cancer['socialSupport_emotionality'], bins=20, color='b', edgecolor='orange', alpha=0.65)\n",
    "\n",
    "plt.axvline(mean, color='red', linewidth=2)\n",
    "plt.axvline(median, color='green', linewidth=2)\n",
    "\n",
    "\n",
    "plt.legend({'Mean':mean,'Median':median})\n",
    "\n",
    "plt.title('Social Support emotionality', fontsize=20, fontweight = 'bold')\n",
    "plt.show()"
   ]
  },
  {
   "cell_type": "markdown",
   "metadata": {},
   "source": [
    "#### According to the histogram, we can observe that majority of the women lack emotional support from the community. The observed mean and median are 8.09 and 9 respectively."
   ]
  },
  {
   "cell_type": "code",
   "execution_count": 19,
   "metadata": {},
   "outputs": [
    {
     "data": {
      "image/png": "[encoded data removed]",
      "text/plain": [
       "<Figure size 576x432 with 1 Axes>"
      ]
     },
     "metadata": {
      "needs_background": "light"
     },
     "output_type": "display_data"
    }
   ],
   "source": [
    "# To explore social Support appreciation variable.\n",
    "mean=c_cancer['socialSupport_appreciation'].mean()\n",
    "median=c_cancer['socialSupport_appreciation'].median()\n",
    "\n",
    "plt.figure(figsize=(8, 6))\n",
    "result = plt.hist(c_cancer['socialSupport_appreciation'], bins=20, color='black', edgecolor='blue', alpha=0.65)\n",
    "\n",
    "plt.axvline(mean, color='red', linewidth=2)\n",
    "plt.axvline(median, color='green', linewidth=2)\n",
    "\n",
    "\n",
    "plt.legend({'Mean':mean,'Median':median})\n",
    "\n",
    "plt.title('Social Support appreciation', fontsize=20, fontweight = 'bold')\n",
    "plt.show()"
   ]
  },
  {
   "cell_type": "markdown",
   "metadata": {},
   "source": [
    "#### According to the histogram, we can visualise that majority of the women lack appreciation from the community. Whereas, some women get social appreciation which should be improved. The observed mean and median are 6.16 and 6.5 respectively."
   ]
  },
  {
   "cell_type": "code",
   "execution_count": 20,
   "metadata": {},
   "outputs": [
    {
     "data": {
      "image/png": "[encoded data removed]",
      "text/plain": [
       "<Figure size 576x432 with 1 Axes>"
      ]
     },
     "metadata": {
      "needs_background": "light"
     },
     "output_type": "display_data"
    }
   ],
   "source": [
    "# To explore socialSupport_appreciation variable.\n",
    "mean=c_cancer['socialSupport_instrumental'].mean()\n",
    "median=c_cancer['socialSupport_instrumental'].median()\n",
    "\n",
    "plt.figure(figsize=(8, 6))\n",
    "result = plt.hist(c_cancer['socialSupport_instrumental'], bins=20, color='purple', edgecolor='purple', alpha=0.65)\n",
    "\n",
    "plt.axvline(mean, color='red', linewidth=2)\n",
    "plt.axvline(median, color='green', linewidth=2)\n",
    "\n",
    "\n",
    "plt.legend({'Mean':mean,'Median':median})\n",
    "\n",
    "plt.title('Instrumental Social support', fontsize=20, fontweight = 'bold')\n",
    "plt.show()"
   ]
  },
  {
   "cell_type": "markdown",
   "metadata": {},
   "source": [
    "#### According to the histogram, majority of women get help and support in a tangible way. The observed mean and median are 10.37 and 14.25 respectively."
   ]
  },
  {
   "cell_type": "code",
   "execution_count": 21,
   "metadata": {},
   "outputs": [
    {
     "data": {
      "image/png": "[encoded data removed]",
      "text/plain": [
       "<Figure size 360x360 with 1 Axes>"
      ]
     },
     "metadata": {},
     "output_type": "display_data"
    }
   ],
   "source": [
    "#Donut chart for ca_cervix variable\n",
    "\n",
    "shapes = c_cancer['ca_cervix'].value_counts(normalize=True) * 100\n",
    "Keys = shapes.keys().to_list()\n",
    "Percent = shapes.to_list()\n",
    "\n",
    "fig = plt.figure(figsize=(5,5)) # Create matplotlib figure\n",
    "plt.rcParams.update({'font.size': 18, 'font.family': 'monospace'})\n",
    "\n",
    "labels = ['Without cancer','With cancer']\n",
    "sizes = Percent\n",
    "colors = ['orchid',  'purple']\n",
    "\n",
    "# Plot donut Chart\n",
    "plt.pie(sizes, \n",
    "        colors=colors, \n",
    "        labels=labels,\n",
    "        autopct='%1.1f%%', \n",
    "        shadow=False)\n",
    "        \n",
    "# circle at the center of pie to make it look like a donut\n",
    "centre_circle = plt.Circle((0,0),0.50,color='white', fc='white')\n",
    "fig = plt.gcf()\n",
    "fig.gca().add_artist(centre_circle)\n",
    "\n",
    "\n",
    "# Set aspect ratio to be equal so that pie is drawn as a circle.\n",
    "plt.axis('equal')\n",
    "plt.show()"
   ]
  },
  {
   "cell_type": "markdown",
   "metadata": {},
   "source": [
    "#### According to the donut chart, we can observe that 70.8% women do not have cancer and the remaining 29.2% are affected with cervical cancer."
   ]
  },
  {
   "cell_type": "markdown",
   "metadata": {},
   "source": [
    "### Relationship between pairs of attributes"
   ]
  },
  {
   "cell_type": "code",
   "execution_count": 22,
   "metadata": {},
   "outputs": [
    {
     "data": {
      "image/png": "[encoded data removed]",
      "text/plain": [
       "<Figure size 1224x1080 with 12 Axes>"
      ]
     },
     "metadata": {
      "needs_background": "light"
     },
     "output_type": "display_data"
    }
   ],
   "source": [
    "# To visualize all the variables of the subsetted data set\n",
    "c_cancer.hist(figsize=(17,15));"
   ]
  },
  {
   "cell_type": "markdown",
   "metadata": {},
   "source": [
    "#### The above histogram depicts the visualisation for all the variables of the subsetted dataset."
   ]
  },
  {
   "cell_type": "markdown",
   "metadata": {},
   "source": [
    "### 0 - Women without Cancer  \n",
    "### 1 - Women with Cancer"
   ]
  },
  {
   "cell_type": "code",
   "execution_count": 23,
   "metadata": {},
   "outputs": [
    {
     "data": {
      "image/png": "[encoded data removed]",
      "text/plain": [
       "<Figure size 576x432 with 1 Axes>"
      ]
     },
     "metadata": {
      "needs_background": "light"
     },
     "output_type": "display_data"
    }
   ],
   "source": [
    "#Comparison between sexual risk behavior and ca cervix\n",
    "plt.figure(figsize=(8, 6))\n",
    "\n",
    "sns.barplot(x='ca_cervix', y='behaviour_sexualRisk', data=c_cancer, palette='Blues',edgecolor='black').set_title('Relationship between Behaviour sexual risk and cancer rate in Women')\n",
    "plt.show()"
   ]
  },
  {
   "cell_type": "markdown",
   "metadata": {},
   "source": [
    "#### Women who are not affected by cervical cancer have high amount of sexual risk but are prone to it as sexual risk is dangerous. Women can practice protected sexual activities to avoid getting affected by cancer."
   ]
  },
  {
   "cell_type": "code",
   "execution_count": 24,
   "metadata": {},
   "outputs": [
    {
     "data": {
      "image/png": "[encoded data removed]",
      "text/plain": [
       "<Figure size 576x432 with 1 Axes>"
      ]
     },
     "metadata": {
      "needs_background": "light"
     },
     "output_type": "display_data"
    }
   ],
   "source": [
    "#Comparison between behaviour eating and ca cervix\n",
    "plt.figure(figsize=(8, 6))\n",
    "sns.barplot(x='ca_cervix', y='behaviour_eating', data=c_cancer, palette='flare',edgecolor='black').set_title('Relationship between Behaviour eating and cancer rate in Women')\n",
    "plt.show()"
   ]
  },
  {
   "cell_type": "markdown",
   "metadata": {},
   "source": [
    "#### As behavior eating consists for diet, eating habits, eating disorders, etc women who might have proper diet but may also be suffering from eating disorders have cervical cancer. Whereas, women without eating disorders do not have cervical cancer  but are advised to improve diet. By maintaining proper diet and healthy eating habits, one can stay away from cancer."
   ]
  },
  {
   "cell_type": "code",
   "execution_count": 25,
   "metadata": {},
   "outputs": [
    {
     "data": {
      "image/png": "[encoded data removed]",
      "text/plain": [
       "<Figure size 576x432 with 1 Axes>"
      ]
     },
     "metadata": {
      "needs_background": "light"
     },
     "output_type": "display_data"
    }
   ],
   "source": [
    "#Comparison between behaviour personal hygiene and ca cervix\n",
    "plt.figure(figsize=(8, 6))\n",
    "sns.barplot(x='ca_cervix', y='behaviour_personalHygiene', data=c_cancer, palette='afmhot',edgecolor='black').set_title('Relationship between Behaviour personal hygiene and cancer rate in Women')\n",
    "plt.show()"
   ]
  },
  {
   "cell_type": "markdown",
   "metadata": {},
   "source": [
    "#### Women who takes care of their personal hygiene are not affected with cervical cancer. Whereas, women showing carelessness towards their personal hygiene are affected with cervical cancer. Women should be responsible enough to maintain proper sanitary practices stay healthy and away from cancer."
   ]
  },
  {
   "cell_type": "code",
   "execution_count": 26,
   "metadata": {},
   "outputs": [
    {
     "data": {
      "image/png": "[encoded data removed]",
      "text/plain": [
       "<Figure size 576x432 with 1 Axes>"
      ]
     },
     "metadata": {
      "needs_background": "light"
     },
     "output_type": "display_data"
    }
   ],
   "source": [
    "# Relationship between perception vulnerability and ca cervix\n",
    "plt.figure(figsize=(8, 6))\n",
    "sns.barplot(x='ca_cervix', y='perception_vulnerability', data=c_cancer, palette=\"vlag\",edgecolor='black').set_title('Relationship between perception vulnerability and cancer rate in Women')\n",
    "plt.show()"
   ]
  },
  {
   "cell_type": "markdown",
   "metadata": {},
   "source": [
    "#### Women who are aware about the health threats are not affected with the cancer whereas, women who are not familiar about the likelihood of developing the health problems are affected with cervical cancer. Women should be alert and properly informed about health threats takes good care of themselves and stay away from cancer."
   ]
  },
  {
   "cell_type": "code",
   "execution_count": 27,
   "metadata": {},
   "outputs": [
    {
     "data": {
      "image/png": "[encoded data removed]",
      "text/plain": [
       "<Figure size 576x432 with 1 Axes>"
      ]
     },
     "metadata": {
      "needs_background": "light"
     },
     "output_type": "display_data"
    }
   ],
   "source": [
    "# Relationship between perception severity and ca cervix\n",
    "plt.figure(figsize=(8, 6))\n",
    "sns.barplot(x='ca_cervix', y='perception_severity', data=c_cancer, palette=\"rocket\",edgecolor='black').set_title('Relationship between perception severity and cancer rate in Women')\n",
    "plt.show()"
   ]
  },
  {
   "cell_type": "markdown",
   "metadata": {},
   "source": [
    "#### Women with health problems took proper care and stayed optimistic towards their health issues are not affected with cervical cancer whereas, women who ignored their health problems are affected with the cervical cancer. Women should stay positive and strong provided if they are facing any health issues and should consult the doctor as soon as they notice any symptoms. This will help women to get a proper consultation at early stage and will not face high risk of cancer."
   ]
  },
  {
   "cell_type": "code",
   "execution_count": 28,
   "metadata": {},
   "outputs": [
    {
     "data": {
      "image/png": "[encoded data removed]",
      "text/plain": [
       "<Figure size 576x432 with 1 Axes>"
      ]
     },
     "metadata": {
      "needs_background": "light"
     },
     "output_type": "display_data"
    }
   ],
   "source": [
    "# Relationship between motivation strength and ca cervix\n",
    "plt.figure(figsize=(8, 6))\n",
    "sns.barplot(x='ca_cervix', y='motivation_strength', data=c_cancer, palette='bwr',edgecolor='black').set_title('Relationship between motivation strength and cancer rate in Women')\n",
    "plt.show()"
   ]
  },
  {
   "cell_type": "markdown",
   "metadata": {},
   "source": [
    "#### Women who are encouraging, mentally and physically strong are not affected with cervical cancer whereas, women with low motivation are affected with cervical cancer. Women should stay mentally and physically string and must practice meditation and yoga to keep themselves confident and focused. They should also encourge people surrounding them to keep the cancer threat away from them."
   ]
  },
  {
   "cell_type": "code",
   "execution_count": 29,
   "metadata": {},
   "outputs": [
    {
     "data": {
      "image/png": "[encoded data removed]",
      "text/plain": [
       "<Figure size 576x432 with 1 Axes>"
      ]
     },
     "metadata": {
      "needs_background": "light"
     },
     "output_type": "display_data"
    }
   ],
   "source": [
    "# Relationship between motivation willingness and ca cervix\n",
    "plt.figure(figsize=(8, 6))\n",
    "sns.barplot(x='ca_cervix', y='motivation_willingness', data=c_cancer, palette='cool',edgecolor='black').set_title('Relationship between motivation willingness and cancer rate in Women')\n",
    "plt.show()"
   ]
  },
  {
   "cell_type": "markdown",
   "metadata": {},
   "source": [
    "#### Women with strong willpower are cancer- free whereas, women with weak willpower are suffering from cancer. Women should practice mindfullness, believe in themselves, stay confident to keep their willpower strong and stay cancer-free."
   ]
  },
  {
   "cell_type": "code",
   "execution_count": 30,
   "metadata": {},
   "outputs": [
    {
     "data": {
      "image/png": "[encoded data removed]",
      "text/plain": [
       "<Figure size 576x432 with 1 Axes>"
      ]
     },
     "metadata": {
      "needs_background": "light"
     },
     "output_type": "display_data"
    }
   ],
   "source": [
    "# Relationship between emotional social support and ca cervix\n",
    "plt.figure(figsize=(8, 6))\n",
    "sns.barplot(x='ca_cervix', y='socialSupport_emotionality', data=c_cancer, palette='RdYlGn_r',edgecolor='black').set_title('Relationship between Emotional Social support and cancer rate in Women')\n",
    "plt.show()"
   ]
  },
  {
   "cell_type": "markdown",
   "metadata": {},
   "source": [
    "#### Women who are fortunate to get love, acceptance, nurturance, warmth from their surroundings are emotionally strong and cancer free. On the other hand, women who lack emotional support from their community are emotionally weak and are suffering from cancer. Women should give and receive love, encouragement, nurturance, reassurance to keep themselves and everybody around them emotionally strong and away from cancer."
   ]
  },
  {
   "cell_type": "code",
   "execution_count": 31,
   "metadata": {},
   "outputs": [
    {
     "data": {
      "image/png": "[encoded data removed]",
      "text/plain": [
       "<Figure size 576x432 with 1 Axes>"
      ]
     },
     "metadata": {
      "needs_background": "light"
     },
     "output_type": "display_data"
    }
   ],
   "source": [
    "# Relationship between social support appreciation and ca cervix\n",
    "plt.figure(figsize=(8, 6))\n",
    "sns.barplot(x='ca_cervix', y='socialSupport_appreciation', data=c_cancer, palette='PuBuGn_r',edgecolor='black').set_title('Relationship between Social support appreciation and cancer rate in Women')\n",
    "plt.show()"
   ]
  },
  {
   "cell_type": "markdown",
   "metadata": {},
   "source": [
    "#### Women who are fortunate to get appreciation for their efforts are happy and disease-free than compared to the women who are not appreciated. Women should be appreciated for their efforts to keep them confident, happy and cancer-free."
   ]
  },
  {
   "cell_type": "code",
   "execution_count": 32,
   "metadata": {},
   "outputs": [
    {
     "data": {
      "image/png": "[encoded data removed]",
      "text/plain": [
       "<Figure size 576x432 with 1 Axes>"
      ]
     },
     "metadata": {
      "needs_background": "light"
     },
     "output_type": "display_data"
    }
   ],
   "source": [
    "# Relationship between instrumental social support and ca cervix\n",
    "plt.figure(figsize=(8, 6))\n",
    "sns.barplot(x='ca_cervix', y='socialSupport_instrumental', data=c_cancer, palette='coolwarm',edgecolor='black').set_title('Relationship between Instrumental Social support and cancer rate in Women')\n",
    "plt.show()"
   ]
  },
  {
   "cell_type": "markdown",
   "metadata": {},
   "source": [
    "#### Women who receive help and support in a tangible or physical way are more likely to stay healthy than compared to women who receive less instrumental support. Women should receive support in a tangible and physical way to stay healthy and cancer-free."
   ]
  },
  {
   "cell_type": "markdown",
   "metadata": {},
   "source": [
    "## Task 3 - Data Modelling"
   ]
  },
  {
   "cell_type": "markdown",
   "metadata": {},
   "source": [
    "## Train and Test the model"
   ]
  },
  {
   "cell_type": "code",
   "execution_count": 33,
   "metadata": {},
   "outputs": [],
   "source": [
    "#Subsetting the dataset with important variables for the classification.\n",
    "behavior_det=c_cancer[['behaviour_sexualRisk','behaviour_eating','behaviour_personalHygiene','ca_cervix']]"
   ]
  },
  {
   "cell_type": "code",
   "execution_count": 34,
   "metadata": {},
   "outputs": [],
   "source": [
    "#Assign the variables for training and testing and store it in x and y respectively.\n",
    "x=behavior_det.drop('ca_cervix',axis='columns')\n",
    "y=behavior_det['ca_cervix']"
   ]
  },
  {
   "cell_type": "code",
   "execution_count": 35,
   "metadata": {},
   "outputs": [],
   "source": [
    "# To import the train_test_split model from sklearn\n",
    "from sklearn.model_selection import train_test_split\n",
    "\n",
    "X_train, X_test, y_train, y_test =train_test_split(x,y,test_size=0.20,random_state=3)"
   ]
  },
  {
   "cell_type": "code",
   "execution_count": 36,
   "metadata": {},
   "outputs": [
    {
     "name": "stdout",
     "output_type": "stream",
     "text": [
      "(57, 3) (57,)\n",
      "\n",
      "(15, 3) (15,)\n"
     ]
    }
   ],
   "source": [
    "# To print the shape of train and test\n",
    "print(X_train.shape,y_train.shape)\n",
    "print()\n",
    "print(X_test.shape,y_test.shape)"
   ]
  },
  {
   "cell_type": "markdown",
   "metadata": {},
   "source": [
    "## KNN Classification Model"
   ]
  },
  {
   "cell_type": "code",
   "execution_count": 37,
   "metadata": {},
   "outputs": [],
   "source": [
    "# To import KNeighborsClassifier from sklearn\n",
    "from sklearn.neighbors import KNeighborsClassifier\n",
    "# To build the model\n",
    "clf=KNeighborsClassifier(n_neighbors=3)"
   ]
  },
  {
   "cell_type": "code",
   "execution_count": 38,
   "metadata": {},
   "outputs": [
    {
     "data": {
      "text/plain": [
       "KNeighborsClassifier(n_neighbors=3)"
      ]
     },
     "execution_count": 38,
     "metadata": {},
     "output_type": "execute_result"
    }
   ],
   "source": [
    "# To fit the model on training data\n",
    "clf.fit(X_train,y_train)"
   ]
  },
  {
   "cell_type": "code",
   "execution_count": 39,
   "metadata": {},
   "outputs": [
    {
     "name": "stdout",
     "output_type": "stream",
     "text": [
      "[0 1 0 0 1 0 0 0 0 1 0 0 0 1 1]\n",
      "\n",
      "34    0\n",
      "6     1\n",
      "47    0\n",
      "35    0\n",
      "8     1\n",
      "13    1\n",
      "31    0\n",
      "49    0\n",
      "27    0\n",
      "66    0\n",
      "61    0\n",
      "60    0\n",
      "16    1\n",
      "70    0\n",
      "4     1\n",
      "Name: ca_cervix, dtype: int64\n"
     ]
    }
   ],
   "source": [
    "# To predict the model on with respect to testing data\n",
    "y_pre=clf.predict(X_test)\n",
    "print(y_pre)\n",
    "print()\n",
    "print(y_test)"
   ]
  },
  {
   "cell_type": "code",
   "execution_count": 40,
   "metadata": {},
   "outputs": [
    {
     "name": "stdout",
     "output_type": "stream",
     "text": [
      "[[8 2]\n",
      " [2 3]]\n"
     ]
    }
   ],
   "source": [
    "# To import confusion_matrix from sklearn\n",
    "from sklearn.metrics import confusion_matrix\n",
    "\n",
    "#To load the model to confusion matrix\n",
    "cm = confusion_matrix(y_test,y_pre)\n",
    "print(cm)"
   ]
  },
  {
   "cell_type": "code",
   "execution_count": 41,
   "metadata": {
    "scrolled": true
   },
   "outputs": [
    {
     "data": {
      "image/png": "[encoded data removed]",
      "text/plain": [
       "<Figure size 432x288 with 2 Axes>"
      ]
     },
     "metadata": {
      "needs_background": "light"
     },
     "output_type": "display_data"
    }
   ],
   "source": [
    "# To visualize the confusion matrix using heatmap\n",
    "sns.heatmap(cm,annot=True,cmap=\"BuGn\")\n",
    "plt.show()"
   ]
  },
  {
   "cell_type": "code",
   "execution_count": 42,
   "metadata": {},
   "outputs": [
    {
     "name": "stdout",
     "output_type": "stream",
     "text": [
      "KNN : 0.7333333333333333\n"
     ]
    }
   ],
   "source": [
    "#import accuracy score from sklearn metrics\n",
    "from sklearn.metrics import accuracy_score\n",
    "\n",
    "# To print the accuracy score\n",
    "print('KNN :', accuracy_score(y_test, y_pre))"
   ]
  },
  {
   "cell_type": "code",
   "execution_count": 43,
   "metadata": {},
   "outputs": [
    {
     "name": "stdout",
     "output_type": "stream",
     "text": [
      "              precision    recall  f1-score   support\n",
      "\n",
      "           0       0.80      0.80      0.80        10\n",
      "           1       0.60      0.60      0.60         5\n",
      "\n",
      "    accuracy                           0.73        15\n",
      "   macro avg       0.70      0.70      0.70        15\n",
      "weighted avg       0.73      0.73      0.73        15\n",
      "\n"
     ]
    }
   ],
   "source": [
    "from sklearn.metrics import classification_report\n",
    "print(classification_report(y_test,y_pre))"
   ]
  },
  {
   "cell_type": "markdown",
   "metadata": {},
   "source": [
    "## Hill-Climbing for KNN Classification\n"
   ]
  },
  {
   "cell_type": "code",
   "execution_count": 44,
   "metadata": {},
   "outputs": [
    {
     "data": {
      "text/plain": [
       "array([[10, 13, 12, ..., 12, 11,  8],\n",
       "       [10, 11, 11, ...,  5,  4,  4],\n",
       "       [10, 15,  3, ...,  3,  3, 15],\n",
       "       ...,\n",
       "       [10,  8, 11, ..., 12, 10, 10],\n",
       "       [ 9, 12, 13, ..., 11, 13, 15],\n",
       "       [10, 14, 14, ..., 13, 15, 15]], dtype=int64)"
      ]
     },
     "execution_count": 44,
     "metadata": {},
     "output_type": "execute_result"
    }
   ],
   "source": [
    "#Storing the whole data by eliminating the target variable.\n",
    "cancer_data=cervical_cancer.drop('ca_cervix',axis='columns')\n",
    "\n",
    "#Converting the array into numpy\n",
    "cancer_data.to_numpy()"
   ]
  },
  {
   "cell_type": "code",
   "execution_count": 45,
   "metadata": {},
   "outputs": [],
   "source": [
    "#Choosing the target variable\n",
    "target=cervical_cancer['ca_cervix']"
   ]
  },
  {
   "cell_type": "code",
   "execution_count": 46,
   "metadata": {},
   "outputs": [
    {
     "name": "stdout",
     "output_type": "stream",
     "text": [
      "[3, 15, 6, 10, 2, 14, 4, 16, 7, 1, 13, 0, 18, 17, 9, 8, 12, 11, 5]\n"
     ]
    }
   ],
   "source": [
    "#To import shuffle from sklearn.utils\n",
    "from sklearn.utils import shuffle\n",
    "#To store that indexes from the dataset\n",
    "col_num=cancer_data.shape[1]\n",
    "new_Ind = []\n",
    "cur_MaxScore = 0.0\n",
    "#To shuffle the indexes \n",
    "col_Ind_Random = shuffle(range(0,col_num), random_state=1)\n",
    "print(col_Ind_Random)"
   ]
  },
  {
   "cell_type": "code",
   "execution_count": 47,
   "metadata": {},
   "outputs": [
    {
     "name": "stdout",
     "output_type": "stream",
     "text": [
      "Score with 1 selected features: 0.6666666666666666\n",
      "[3]\n",
      "Score with 2 selected features: 0.6666666666666666\n",
      "[3, 15]\n",
      "Score with 3 selected features: 0.6666666666666666\n",
      "[3, 15, 6]\n",
      "Score with 4 selected features: 0.8666666666666667\n",
      "[3, 15, 6, 10]\n",
      "Score with 5 selected features: 0.8666666666666667\n",
      "[3, 15, 6, 10, 2]\n",
      "Score with 6 selected features: 0.8666666666666667\n",
      "[3, 15, 6, 10, 2, 14]\n",
      "Score with 7 selected features: 0.8666666666666667\n",
      "[3, 15, 6, 10, 2, 14, 4]\n",
      "Score with 8 selected features: 0.8666666666666667\n",
      "[3, 15, 6, 10, 2, 14, 4, 7]\n",
      "Score with 9 selected features: 0.8666666666666667\n",
      "[3, 15, 6, 10, 2, 14, 4, 7, 1]\n",
      "Score with 10 selected features: 0.8666666666666667\n",
      "[3, 15, 6, 10, 2, 14, 4, 7, 1, 13]\n",
      "Score with 11 selected features: 0.8666666666666667\n",
      "[3, 15, 6, 10, 2, 14, 4, 7, 1, 13, 0]\n",
      "Score with 12 selected features: 0.8666666666666667\n",
      "[3, 15, 6, 10, 2, 14, 4, 7, 1, 13, 0, 18]\n",
      "Score with 13 selected features: 0.9333333333333333\n",
      "[3, 15, 6, 10, 2, 14, 4, 7, 1, 13, 0, 18, 17]\n",
      "Score with 14 selected features: 0.9333333333333333\n",
      "[3, 15, 6, 10, 2, 14, 4, 7, 1, 13, 0, 18, 17, 9]\n",
      "Score with 15 selected features: 0.9333333333333333\n",
      "[3, 15, 6, 10, 2, 14, 4, 7, 1, 13, 0, 18, 17, 9, 8]\n",
      "Score with 16 selected features: 0.9333333333333333\n",
      "[3, 15, 6, 10, 2, 14, 4, 7, 1, 13, 0, 18, 17, 9, 8, 11]\n",
      "Score with 17 selected features: 0.9333333333333333\n",
      "[3, 15, 6, 10, 2, 14, 4, 7, 1, 13, 0, 18, 17, 9, 8, 11, 5]\n"
     ]
    }
   ],
   "source": [
    "for cur_f in range(0, col_num):\n",
    "    new_Ind.append(col_Ind_Random[cur_f])\n",
    "    newData = cancer_data.values[:, new_Ind]\n",
    "    X_train, X_test, y_train, y_test = train_test_split(newData,target, test_size=0.2, random_state=3)\n",
    "    clf = KNeighborsClassifier(3)\n",
    "    fit = clf.fit(X_train, y_train)\n",
    "    cur_Score = clf.score(X_test, y_test)\n",
    "    if cur_Score < cur_MaxScore:\n",
    "        new_Ind.remove(col_Ind_Random[cur_f])\n",
    "    else:\n",
    "        cur_MaxScore = cur_Score\n",
    "        print(\"Score with \" + str(len(new_Ind)) + \" selected features: \" + str(cur_Score))\n",
    "        print(new_Ind)"
   ]
  },
  {
   "cell_type": "markdown",
   "metadata": {},
   "source": [
    "## Decision Tree classifier"
   ]
  },
  {
   "cell_type": "code",
   "execution_count": 48,
   "metadata": {},
   "outputs": [],
   "source": [
    "#import  DecisionTreeClassifier from sklearn tree\n",
    "from sklearn.tree import DecisionTreeClassifier\n",
    "\n",
    "#build the model\n",
    "dtc=DecisionTreeClassifier()\n",
    "\n",
    "#fit the model on training data\n",
    "model=dtc.fit(X_train,y_train)\n",
    "\n",
    "\n",
    "#load the predicted model on testing data\n",
    "prediction=model.predict(X_test)"
   ]
  },
  {
   "cell_type": "code",
   "execution_count": 49,
   "metadata": {},
   "outputs": [
    {
     "data": {
      "text/plain": [
       "array([[9, 1],\n",
       "       [2, 3]], dtype=int64)"
      ]
     },
     "execution_count": 49,
     "metadata": {},
     "output_type": "execute_result"
    }
   ],
   "source": [
    "#load the test model and predicted model to confusion matrix\n",
    "cm2= confusion_matrix(y_test,prediction)\n",
    "cm2"
   ]
  },
  {
   "cell_type": "code",
   "execution_count": 50,
   "metadata": {},
   "outputs": [
    {
     "data": {
      "image/png": "[encoded data removed]",
      "text/plain": [
       "<Figure size 432x288 with 2 Axes>"
      ]
     },
     "metadata": {
      "needs_background": "light"
     },
     "output_type": "display_data"
    }
   ],
   "source": [
    "#visualize the confusion matrix\n",
    "sns.heatmap(cm2,annot=True,cmap=\"copper\")\n",
    "plt.show()"
   ]
  },
  {
   "cell_type": "code",
   "execution_count": 51,
   "metadata": {},
   "outputs": [
    {
     "data": {
      "text/plain": [
       "0.8"
      ]
     },
     "execution_count": 51,
     "metadata": {},
     "output_type": "execute_result"
    }
   ],
   "source": [
    "# To print the accuracy of decision tree model\n",
    "accuracy_score(y_test,prediction)"
   ]
  },
  {
   "cell_type": "code",
   "execution_count": 52,
   "metadata": {},
   "outputs": [
    {
     "name": "stdout",
     "output_type": "stream",
     "text": [
      "              precision    recall  f1-score   support\n",
      "\n",
      "           0       0.82      0.90      0.86        10\n",
      "           1       0.75      0.60      0.67         5\n",
      "\n",
      "    accuracy                           0.80        15\n",
      "   macro avg       0.78      0.75      0.76        15\n",
      "weighted avg       0.80      0.80      0.79        15\n",
      "\n"
     ]
    }
   ],
   "source": [
    "from sklearn.metrics import classification_report\n",
    "print(classification_report(y_test,prediction))"
   ]
  },
  {
   "cell_type": "markdown",
   "metadata": {},
   "source": [
    "## Hill climbing for Decision tree"
   ]
  },
  {
   "cell_type": "code",
   "execution_count": 53,
   "metadata": {},
   "outputs": [
    {
     "name": "stdout",
     "output_type": "stream",
     "text": [
      "[3, 15, 6, 10, 2, 14, 4, 16, 7, 1, 13, 0, 18, 17, 9, 8, 12, 11, 5]\n"
     ]
    }
   ],
   "source": [
    "#To import shuffle from sklearn.utils\n",
    "from sklearn.utils import shuffle\n",
    "#To store that indexes from the dataset\n",
    "col_num1=cancer_data.shape[1]\n",
    "new_Ind1 = []\n",
    "cur_MaxScore1 = 0.0\n",
    "#To shuffle the indexes \n",
    "col_Ind_Random1 = shuffle(range(0,col_num1), random_state=1)\n",
    "print(col_Ind_Random1)"
   ]
  },
  {
   "cell_type": "code",
   "execution_count": 54,
   "metadata": {},
   "outputs": [
    {
     "name": "stdout",
     "output_type": "stream",
     "text": [
      "Score with 1 selected features: 0.6666666666666666\n",
      "[3]\n",
      "Score with 2 selected features: 0.7333333333333333\n",
      "[3, 15]\n",
      "Score with 3 selected features: 0.7333333333333333\n",
      "[3, 15, 6]\n",
      "Score with 4 selected features: 0.7333333333333333\n",
      "[3, 15, 6, 16]\n",
      "Score with 5 selected features: 0.7333333333333333\n",
      "[3, 15, 6, 16, 1]\n",
      "Score with 6 selected features: 0.8\n",
      "[3, 15, 6, 16, 1, 13]\n",
      "Score with 7 selected features: 0.8\n",
      "[3, 15, 6, 16, 1, 13, 0]\n",
      "Score with 8 selected features: 0.8\n",
      "[3, 15, 6, 16, 1, 13, 0, 18]\n",
      "Score with 9 selected features: 0.8666666666666667\n",
      "[3, 15, 6, 16, 1, 13, 0, 18, 9]\n",
      "Score with 10 selected features: 0.8666666666666667\n",
      "[3, 15, 6, 16, 1, 13, 0, 18, 9, 8]\n"
     ]
    }
   ],
   "source": [
    "for cur_f1 in range(0, col_num1):\n",
    "    new_Ind1.append(col_Ind_Random1[cur_f1])\n",
    "    newData1 = cancer_data.values[:, new_Ind1]\n",
    "    X_train, X_test, y_train, y_test = train_test_split(newData1,target, test_size=0.2, random_state=3)\n",
    "    dtc=DecisionTreeClassifier()\n",
    "    fit1 = dtc.fit(X_train, y_train)\n",
    "    cur_Score1 = dtc.score(X_test, y_test)\n",
    "    if cur_Score1 < cur_MaxScore1:\n",
    "        new_Ind1.remove(col_Ind_Random1[cur_f1])\n",
    "    else:\n",
    "        cur_MaxScore1 = cur_Score1\n",
    "        print(\"Score with \" + str(len(new_Ind1)) + \" selected features: \" + str(cur_Score1))\n",
    "        print(new_Ind1)"
   ]
  },
  {
   "cell_type": "code",
   "execution_count": 55,
   "metadata": {},
   "outputs": [],
   "source": [
    "#visualize the decision tree using graphviz\n",
    "from sklearn import tree\n",
    "\n",
    "with open('dectree.dot', 'w') as f:\n",
    "    f = tree.export_graphviz(dtc,out_file= f,filled=True,rounded=True,special_characters=True)"
   ]
  },
  {
   "cell_type": "markdown",
   "metadata": {},
   "source": [
    "## Comparing the two models"
   ]
  },
  {
   "cell_type": "code",
   "execution_count": 56,
   "metadata": {},
   "outputs": [
    {
     "name": "stdout",
     "output_type": "stream",
     "text": [
      "KNN : 0.7333333333333333\n",
      "Decision Tree: 0.8\n"
     ]
    }
   ],
   "source": [
    "print('KNN :', accuracy_score(y_test, y_pre))\n",
    "print('Decision Tree:',accuracy_score(y_test,prediction))"
   ]
  },
  {
   "cell_type": "markdown",
   "metadata": {},
   "source": [
    "#### The Decision Tree classifier has the highest accuracy score of 80%, followed by the KNN Classification Model, which has a score of 73.33%.\n",
    "#### The Decision Tree classification model is recommended for this dataset because it has a higher accuracy score than KNN and is also one of the fastest ways to discover the most significant variables and the relationship between two or more variables."
   ]
  }
 ],
 "metadata": {
  "kernelspec": {
   "display_name": "Python 3",
   "language": "python",
   "name": "python3"
  },
  "language_info": {
   "codemirror_mode": {
    "name": "ipython",
    "version": 3
   },
   "file_extension": ".py",
   "mimetype": "text/x-python",
   "name": "python",
   "nbconvert_exporter": "python",
   "pygments_lexer": "ipython3",
   "version": "3.8.5"
  }
 },
 "nbformat": 4,
 "nbformat_minor": 4
}
